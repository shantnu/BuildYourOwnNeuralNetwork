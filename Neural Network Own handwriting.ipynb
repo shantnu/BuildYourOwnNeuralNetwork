{
 "cells": [
  {
   "cell_type": "code",
   "execution_count": 1,
<<<<<<< HEAD
   "metadata": {
    "collapsed": true
   },
=======
   "metadata": {},
>>>>>>> fe0868f... adding tests
   "outputs": [],
   "source": [
    "import numpy\n",
    "\n",
    "import scipy.special\n",
    "import imageio"
   ]
  },
  {
   "cell_type": "code",
   "execution_count": 2,
   "metadata": {
    "collapsed": true
   },
   "outputs": [],
   "source": [
    "class NN:\n",
    "    def __init__(self, input_nodes = 784, hidden_nodes = 200, output_nodes = 10):\n",
    "        self.input_nodes = input_nodes\n",
    "        self.hidden_nodes = hidden_nodes\n",
    "        self.output_nodes = output_nodes\n",
    "        \n",
    "        self.weights_in = numpy.random.uniform(-1, 1, (self.hidden_nodes, self.input_nodes))\n",
    "\n",
    "        self.weights_out = numpy.random.uniform(-1, 1, (self.output_nodes, self.hidden_nodes))\n",
    "        self.learning_rate = 0.3\n",
    "        \n",
    "    def train(self,inputs, outputs):\n",
    "        \n",
    "        inputs = numpy.array(inputs, ndmin=2).T\n",
    "        outputs = numpy.array(outputs, ndmin=2).T\n",
    "\n",
    "        hidden_input = numpy.dot(self.weights_in,inputs)\n",
    "        hidden_output = scipy.special.expit(hidden_input)\n",
    "\n",
    "        final_layer_in = numpy.dot(self.weights_out, hidden_output)\n",
    "        final_layer_out = scipy.special.expit(final_layer_in)\n",
    "\n",
    "        errors = outputs - final_layer_out\n",
    "\n",
    "        # .T because its the formula\n",
    "        hidden_err = numpy.dot(self.weights_out.T, errors)\n",
    "\n",
    "        self.weights_in += self.learning_rate * numpy.dot((hidden_err * hidden_output * (1- hidden_output)), inputs.T)\n",
    "\n",
    "        self.weights_out += self.learning_rate * numpy.dot((errors * final_layer_out * (1- final_layer_out)), hidden_output.T)\n",
    "        \n",
    "    def query(self,inputs):\n",
    "        hidden_input = numpy.dot(self.weights_in,inputs)\n",
    "        hidden_output = scipy.special.expit(hidden_input)\n",
    "\n",
    "        final_layer_in = numpy.dot(self.weights_out, hidden_output)\n",
    "        final_layer_out = scipy.special.expit(final_layer_in)\n",
    "        \n",
    "        return final_layer_out\n",
    "\n",
    "        \n",
    "        \n",
    "    \n",
    "\n",
    "    "
   ]
  },
  {
   "cell_type": "code",
   "execution_count": 3,
   "metadata": {
    "collapsed": true
   },
   "outputs": [],
   "source": [
    "training_data_file = open(\"mnist_train.csv\", 'r')\n",
    "training_data_list = training_data_file.readlines()\n",
    "training_data_file.close()"
   ]
  },
  {
   "cell_type": "code",
   "execution_count": 4,
   "metadata": {
    "collapsed": false
   },
   "outputs": [],
   "source": [
    "# epochs is the number of times the training data set is used for training\n",
    "epochs = 25\n",
    "n = NN()\n",
    "for e in range(epochs):\n",
    "    for data in training_data_list:\n",
    "        current_data = data.split(',')\n",
    "\n",
    "        raw_data = (numpy.asfarray(current_data[1:]) / 255.0 * 0.99) + 0.1\n",
    "        hand_digit = int(current_data[0])\n",
    "\n",
    "        output = numpy.ndarray(10)\n",
    "        output.fill(0.1)\n",
    "        output[hand_digit] = 0.99\n",
    "\n",
    "        n.train(raw_data, output)"
   ]
  },
  {
   "cell_type": "code",
   "execution_count": 5,
   "metadata": {
    "collapsed": true
   },
   "outputs": [],
   "source": [
    "test_data_file = open(\"mnist_test.csv\", 'r')\n",
    "test_data_list = test_data_file.readlines()\n",
    "test_data_file.close()\n",
    "\n"
   ]
  },
  {
   "cell_type": "code",
   "execution_count": 6,
   "metadata": {
    "collapsed": false
   },
   "outputs": [
    {
     "name": "stdout",
     "output_type": "stream",
     "text": [
<<<<<<< HEAD
      "Performance =  92.84 %\n"
=======
      "Performance =  93.17999999999999 %\n"
>>>>>>> fe0868f... adding tests
     ]
    }
   ],
   "source": [
    "final_result = []\n",
    "\n",
    "for data in test_data_list:\n",
    "    current_data = data.split(',')\n",
    "\n",
    "    raw_data = (numpy.asfarray(current_data[1:]) / 255.0 * 0.99) + 0.1\n",
    "    hand_digit = int(current_data[0])\n",
    "    \n",
    "    outputs = n.query(raw_data)\n",
    "    \n",
    "    calc_result = numpy.argmax(outputs)\n",
    "    \n",
    "    if calc_result == hand_digit:\n",
    "        final_result.append(1)\n",
    "    else:\n",
    "        final_result.append(0)\n",
    "        \n",
    "        \n",
    "performance = final_result.count(1) / len(final_result)\n",
    "    \n",
    "print(\"Performance = \" , performance    * 100, \"%\")"
   ]
  },
  {
   "cell_type": "code",
<<<<<<< HEAD
   "execution_count": 9,
   "metadata": {
    "collapsed": false
   },
=======
   "execution_count": 7,
   "metadata": {},
>>>>>>> fe0868f... adding tests
   "outputs": [
    {
     "name": "stdout",
     "output_type": "stream",
     "text": [
      "Populating the interactive namespace from numpy and matplotlib\n"
     ]
    },
    {
     "name": "stderr",
     "output_type": "stream",
     "text": [
      "C:\\st\\Anaconda3\\lib\\site-packages\\IPython\\core\\magics\\pylab.py:161: UserWarning: pylab import has clobbered these variables: ['e']\n",
      "`%matplotlib` prevents importing * from pylab and numpy\n",
      "  \"\\n`%matplotlib` prevents importing * from pylab and numpy\"\n"
     ]
    }
   ],
   "source": [
    "import scipy.misc\n",
    "import matplotlib\n",
    "\n",
    "%pylab inline"
   ]
  },
  {
   "cell_type": "code",
<<<<<<< HEAD
   "execution_count": 10,
   "metadata": {
    "collapsed": false
   },
=======
   "execution_count": 8,
   "metadata": {},
>>>>>>> fe0868f... adding tests
   "outputs": [
    {
     "name": "stdout",
     "output_type": "stream",
     "text": [
      "The predicted image is:  1\n"
     ]
    },
    {
     "data": {
<<<<<<< HEAD
      "image/png": "iVBORw0KGgoAAAANSUhEUgAAAP8AAAD8CAYAAAC4nHJkAAAABHNCSVQICAgIfAhkiAAAAAlwSFlz\nAAALEgAACxIB0t1+/AAACq9JREFUeJzt3V+opPV9x/H3p5rcmFys3dNlMdqNIAUpdAMHKURKSppg\nvNHchOxF2IKwuUhDArmopBf1UkqT0IsS2NQl25IaConohbSoBCRQgkexumpbjWzILuvuES9irlLN\ntxfnMZzo+TOeeWae2XzfLxhm5pnn7HwZ9n3m75lfqgpJ/fze1ANImobxS00Zv9SU8UtNGb/UlPFL\nTRm/1JTxS00Zv9TUtcu8ssOHD9exY8eWeZVSK+fPn+f111/PLPvOFX+SO4B/AK4B/qmq7t9r/2PH\njrGxsTHPVUraw/r6+sz7Hvhhf5JrgH8EPgPcCpxIcutB/z1JyzXPc/7bgFeq6tWq+hXwfeCuccaS\ntGjzxH8D8PNt5y8M235LklNJNpJsbG5uznF1ksa08Ff7q+p0Va1X1fra2tqir07SjOaJ/yJw47bz\nHxm2SboKzBP/U8AtST6a5IPA54FHxhlL0qId+K2+qnoryV8B/8HWW31nquqF0SaTtFBzvc9fVY8C\nj440i6Ql8uO9UlPGLzVl/FJTxi81ZfxSU8YvNWX8UlPGLzVl/FJTxi81ZfxSU8YvNWX8UlNL/epu\n/e5JZvqW6B1V1YiT6P3ynl9qyvilpoxfasr4paaMX2rK+KWmjF9qyvilpoxfasr4paaMX2rK+KWm\njF9qyvilpoxfamquv+dPch54E3gbeKuq1scYSqtjnr/X12ob48s8/ryqXh/h35G0RD7sl5qaN/4C\nHk/ydJJTYwwkaTnmfdh/e1VdTPIHwGNJ/ruqnty+w/BL4RTATTfdNOfVSRrLXPf8VXVxOL4CPATc\ntsM+p6tqvarW19bW5rk6SSM6cPxJrkvy4XdOA58Gzo01mKTFmudh/xHgoeGtoGuBf62qfx9lKkkL\nd+D4q+pV4E9GnEW/g/xu/tXlW31SU8YvNWX8UlPGLzVl/FJTxi81ZfxSU8YvNWX8UlPGLzVl/FJT\nxi81ZfxSU8YvNWX8UlPGLzVl/FJTxi81ZfxSU8YvNWX8UlPGLzVl/FJTxi81ZfxSU8YvNWX8UlPG\nLzVl/FJTxi81tW/8Sc4kuZLk3LZt1yd5LMnLw/GhxY4paWyz3PN/F7jjXdvuBZ6oqluAJ4bzkq4i\n+8ZfVU8Cb7xr813A2eH0WeDukeeStGAHfc5/pKouDadfA46MNI+kJZn7Bb+qKqB2uzzJqSQbSTY2\nNzfnvTpJIzlo/JeTHAUYjq/stmNVna6q9apaX1tbO+DVSRrbQeN/BDg5nD4JPDzOOJKWZZa3+h4E\n/hP4oyQXktwD3A98KsnLwF8M5yVdRa7db4eqOrHLRZ8ceRZNIMnUI2gifsJPasr4paaMX2rK+KWm\njF9qyvilpvZ9q0/ay9anu3U18p5fasr4paaMX2rK+KWmjF9qyvilpoxfasr4paaMX2rK+KWmjF9q\nyvilpoxfasr4paaMX2rK+KWmjF9qyvilpoxfasr4paaMX2rK+KWmjF9qat/4k5xJciXJuW3b7kty\nMcmzw+HOxY4paWyz3PN/F7hjh+3fqqrjw+HRcceStGj7xl9VTwJvLGEWSUs0z3P+Lyd5bnhacGi0\niSQtxUHj/zZwM3AcuAR8Y7cdk5xKspFkY3Nz84BXJ2lsB4q/qi5X1dtV9WvgO8Bte+x7uqrWq2p9\nbW3toHNKGtmB4k9ydNvZzwLndttX0mrad4nuJA8CnwAOJ7kA/C3wiSTHgQLOA19c4IySFmDf+Kvq\nxA6bH1jALJKWyE/4SU0Zv9SU8UtNGb/UlPFLTRm/1JTxS00Zv9SU8UtNGb/UlPFLTRm/1JTxS00Z\nv9SU8UtNGb/UlPFLTRm/1JTxS00Zv9SU8UtNGb/UlPFLTRm/1JTxS00Zv9SU8UtNGb/UlPFLTRm/\n1NS+8Se5McmPkryY5IUkXxm2X5/ksSQvD8eHFj+upLHMcs//FvC1qroV+FPgS0luBe4FnqiqW4An\nhvOSrhL7xl9Vl6rqmeH0m8BLwA3AXcDZYbezwN2LGlLS+N7Xc/4kx4CPAT8BjlTVpeGi14Ajo04m\naaFmjj/Jh4AfAF+tql9sv6yqCqhdfu5Uko0kG5ubm3MNK2k8M8Wf5ANshf+9qvrhsPlykqPD5UeB\nKzv9bFWdrqr1qlpfW1sbY2ZJI5jl1f4ADwAvVdU3t130CHByOH0SeHj88SQtyrUz7PNx4AvA80me\nHbZ9Hbgf+Lck9wA/Az63mBElLcK+8VfVj4HscvEnxx1H0rL4CT+pKeOXmjJ+qSnjl5oyfqkp45ea\nMn6pKeOXmjJ+qSnjl5oyfqkp45eaMn6pKeOXmjJ+qSnjl5oyfqkp45eaMn6pKeOXmjJ+qSnjl5qa\n5Xv7dRXbWnNFei/v+aWmjF9qyvilpoxfasr4paaMX2rK+KWm9o0/yY1JfpTkxSQvJPnKsP2+JBeT\nPDsc7lz8uFq2qtrzoKvXLB/yeQv4WlU9k+TDwNNJHhsu+1ZV/f3ixpO0KPvGX1WXgEvD6TeTvATc\nsOjBJC3W+3rOn+QY8DHgJ8OmLyd5LsmZJId2+ZlTSTaSbGxubs41rKTxzBx/kg8BPwC+WlW/AL4N\n3AwcZ+uRwTd2+rmqOl1V61W1vra2NsLIksYwU/xJPsBW+N+rqh8CVNXlqnq7qn4NfAe4bXFjShrb\nLK/2B3gAeKmqvrlt+9Ftu30WODf+eJIWZZZX+z8OfAF4Psmzw7avAyeSHAcKOA98cSETSlqIWV7t\n/zGw0x+FPzr+OJKWxU/4SU0Zv9SU8UtNGb/UlPFLTRm/1JTxS00Zv9SU8UtNGb/UlPFLTRm/1JTx\nS00Zv9RUlvn1y0k2gZ9t23QYeH1pA7w/qzrbqs4FznZQY872h1U10/flLTX+91x5slFV65MNsIdV\nnW1V5wJnO6ipZvNhv9SU8UtNTR3/6Ymvfy+rOtuqzgXOdlCTzDbpc35J05n6nl/SRCaJP8kdSf4n\nyStJ7p1iht0kOZ/k+WHl4Y2JZzmT5EqSc9u2XZ/ksSQvD8c7LpM20WwrsXLzHitLT3rbrdqK10t/\n2J/kGuB/gU8BF4CngBNV9eJSB9lFkvPAelVN/p5wkj8Dfgn8c1X98bDt74A3qur+4Rfnoar66xWZ\n7T7gl1Ov3DwsKHN0+8rSwN3AXzLhbbfHXJ9jgtttinv+24BXqurVqvoV8H3grgnmWHlV9STwxrs2\n3wWcHU6fZes/z9LtMttKqKpLVfXMcPpN4J2VpSe97faYaxJTxH8D8PNt5y+wWkt+F/B4kqeTnJp6\nmB0cGZZNB3gNODLlMDvYd+XmZXrXytIrc9sdZMXrsfmC33vdXlXHgc8AXxoe3q6k2nrOtkpv18y0\ncvOy7LCy9G9MedsddMXrsU0R/0Xgxm3nPzJsWwlVdXE4vgI8xOqtPnz5nUVSh+MrE8/zG6u0cvNO\nK0uzArfdKq14PUX8TwG3JPlokg8CnwcemWCO90hy3fBCDEmuAz7N6q0+/Ahwcjh9Enh4wll+y6qs\n3LzbytJMfNut3IrXVbX0A3AnW6/4/xT4mylm2GWum4H/Gg4vTD0b8CBbDwP/j63XRu4Bfh94AngZ\neBy4foVm+xfgeeA5tkI7OtFst7P1kP454NnhcOfUt90ec01yu/kJP6kpX/CTmjJ+qSnjl5oyfqkp\n45eaMn6pKeOXmjJ+qan/BxsAd642TjIvAAAAAElFTkSuQmCC\n",
      "text/plain": [
       "<matplotlib.figure.Figure at 0x26ef70ac080>"
      ]
     },
     "metadata": {},
=======
      "image/png": "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\n",
      "text/plain": [
       "<Figure size 432x288 with 1 Axes>"
      ]
     },
     "metadata": {
      "needs_background": "light"
     },
>>>>>>> fe0868f... adding tests
     "output_type": "display_data"
    }
   ],
   "source": [
    "image = imageio.imread(\"1.png\", as_gray=True)\n",
    "\n",
    "# reshape from 28x28 to list of 784 values, invert values\n",
    "image_data  = 255.0 - image.reshape(784)\n",
    "\n",
    "\n",
    "# Scale data\n",
    "image_data = (image_data / 255.0 * 0.99) + 0.01\n",
    "\n",
    "outputs = n.query(image_data)\n",
    "\n",
    "calc_result = numpy.argmax(outputs)\n",
    "\n",
    "\n",
    "matplotlib.pyplot.imshow(image_data.reshape(28,28), cmap='Greys', interpolation='None')\n",
    "\n",
    "print(\"The predicted image is: \", calc_result)\n",
    "\n",
    "    "
   ]
  },
  {
   "cell_type": "code",
<<<<<<< HEAD
   "execution_count": 11,
   "metadata": {
    "collapsed": false
   },
=======
   "execution_count": 9,
   "metadata": {},
>>>>>>> fe0868f... adding tests
   "outputs": [
    {
     "name": "stdout",
     "output_type": "stream",
     "text": [
      "The predicted image is:  2\n"
     ]
    },
    {
     "data": {
<<<<<<< HEAD
      "image/png": "iVBORw0KGgoAAAANSUhEUgAAAP8AAAD8CAYAAAC4nHJkAAAABHNCSVQICAgIfAhkiAAAAAlwSFlz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\nRU5ErkJggg==\n",
      "text/plain": [
       "<matplotlib.figure.Figure at 0x26ef7170278>"
      ]
     },
     "metadata": {},
=======
      "image/png": "iVBORw0KGgoAAAANSUhEUgAAAPsAAAD4CAYAAAAq5pAIAAAAOXRFWHRTb2Z0d2FyZQBNYXRwbG90bGliIHZlcnNpb24zLjQuMiwgaHR0cHM6Ly9tYXRwbG90bGliLm9yZy8rg+JYAAAACXBIWXMAAAsTAAALEwEAmpwYAAAMcklEQVR4nO3dYahc5Z3H8d9vtQWxFZLNEIINm27IG1kwLUMoKEUJLXohxEKQ5kUxQUghChUCbUgvKFyE0K4tfVED6SYmu3SthVaqILt1Q0H6pjhKeo2Ke12JNJeYTJoXtRhpY/774h7lGmfOTOacmTPe//cDw5x5npk5/5zklzNznjnncUQIwMr3D00XAGAyCDuQBGEHkiDsQBKEHUji+kmubM2aNbFhw4ZJrhJI5fTp07pw4YJ79VUKu+27JP1E0nWS/i0iDpY9f8OGDep0OlVWCaBEu93u2zfyx3jb10n6qaS7Jd0iaaftW0Z9PwDjVeU7+xZJb0bEWxHxN0m/kLS9nrIA1K1K2G+W9Kdlj88UbR9je4/tju1Ot9utsDoAVYz9aHxEHI6IdkS0W63WuFcHoI8qYV+UtH7Z4y8UbQCmUJWwvyhpk+0v2v6spG9KeqaesgDUbeSht4i4bPtBSf+tpaG3oxHxam2VAahVpXH2iHhO0nM11QJgjPi5LJAEYQeSIOxAEoQdSIKwA0kQdiCJiZ7PjvGYn5/v27djx47S1y4sLNRdzsds2rSpb9+hQ4dKX7t169a6y0mNPTuQBGEHkiDsQBKEHUiCsANJEHYgCYbealA29CU1P/zVpLI/27Zt20pf++yzz5b2MzR3bdizA0kQdiAJwg4kQdiBJAg7kARhB5Ig7EASjLMPqWws/c477yx97cWLF+suZ0W4dOlSaf+gcfj33nuvznJWPPbsQBKEHUiCsANJEHYgCcIOJEHYgSQIO5AE4+xDKjsn/dM8jj47O1vaPzc3V9p/7Nix0v7du3dfa0kfGTQOj2tTKey2T0t6V9IHki5HRLuOogDUr449+50RcaGG9wEwRnxnB5KoGvaQ9FvbL9ne0+sJtvfY7tjudLvdiqsDMKqqYb89Ir4s6W5JD9j+6tVPiIjDEdGOiHar1aq4OgCjqhT2iFgs7s9LelrSljqKAlC/kcNu+0bbn/9wWdLXJZ2qqzAA9apyNH6tpKdtf/g+/xkR/1VLVVPowIEDffuqjCVL1ce6m7Rr167S/qrbBvUZOewR8ZakW2usBcAYMfQGJEHYgSQIO5AEYQeSIOxAEpziOqSyIaZBw0/ANGDPDiRB2IEkCDuQBGEHkiDsQBKEHUiCsANJEHYgCcIOJEHYgSQIO5AEYQeSIOxAEoQdSIKwA0lwPjsqmZ+fb7oEDIk9O5AEYQeSIOxAEoQdSIKwA0kQdiAJwg4kwTg7KpmZmWm6BAxp4J7d9lHb522fWta22vbztheK+1XjLRNAVcN8jD8m6a6r2vZLOhERmySdKB4DmGIDwx4RL0i6eFXzdknHi+Xjku6ptywAdRv1AN3aiDhbLL8jaW2/J9reY7tju9PtdkdcHYCqKh+Nj4iQFCX9hyOiHRHtVqtVdXUARjRq2M/ZXidJxf35+koCMA6jhv0ZSfcVy/dJ+k095QAYl4Hj7LaflHSHpDW2z0h6WNJBSb+0fb+ktyXdO84iMb0WFxfH9t6zs7Nje++MBoY9Inb26dpacy0AxoifywJJEHYgCcIOJEHYgSQIO5AEp7hias3NzTVdworCnh1IgrADSRB2IAnCDiRB2IEkCDuQBGEHkiDsQBKEHUiCsANJEHYgCcIOJEHYgSQIO5AEYQeSIOxAEoQdSIKwA0kQdiAJwg4kQdiBJAg7kARhB5Ig7EASA8Nu+6jt87ZPLWt7xPai7ZPFbWa8ZQKoapg9+zFJd/Vo/3FEbC5uz9VbFoC6DQx7RLwg6eIEagEwRlW+sz9oe774mL+q35Ns77Hdsd3pdrsVVgegilHDfkjSRkmbJZ2V9Fi/J0bE4YhoR0S71WqNuDoAVY0U9og4FxEfRMQVST+TtKXesgDUbaSw21637OE3JJ3q91wA02Hg/Oy2n5R0h6Q1ts9IeljSHbY3SwpJpyV9e3wlDmd+fr60f8eOHaX9CwsLdZYDTJ2BYY+InT2aj4yhFgBjxC/ogCQIO5AEYQeSIOxAEoQdSGLg0fhPi5mZ8hPvFhcXJ1QJMJ3YswNJEHYgCcIOJEHYgSQIO5AEYQeSIOxAEitmnJ1x9JXn2LFjpf27du2aSB0rBXt2IAnCDiRB2IEkCDuQBGEHkiDsQBKEHUhixYyz33DDDaX9ly5dqvT+TzzxRN++lTzeO+gS3bfeeuvY1r13797S/vXr15f2b926tc5yPvXYswNJEHYgCcIOJEHYgSQIO5AEYQeSIOxAEo6Iia2s3W5Hp9MZy3s/+uijpf2zs7NjWS+aM+i3FU899VTfvm3bttVdzsdUnUK8zKFDh/r27d27V2+88YZ79Q3cs9teb/t3tl+z/art7xTtq20/b3uhuF81cvUAxm6Yj/GXJe2LiFskfUXSA7ZvkbRf0omI2CTpRPEYwJQaGPaIOBsRLxfL70p6XdLNkrZLOl487bike8ZUI4AaXNMBOtsbJH1J0h8krY2Is0XXO5LW9nnNHtsd251ut1ulVgAVDB1225+T9CtJD0XEX5b3xdJRvp5H+iLicES0I6LdarUqFQtgdEOF3fZntBT0n0fEr4vmc7bXFf3rJJ0fT4kA6jBw6M22tfSd/GJEPLSs/YeS/hwRB23vl7Q6Ir5b9l7jHHq7fPlyaf9NN91U2l/1FFhgUsqGHN9//31duXKl59DbMOez3ybpW5JesX2yaDsg6aCkX9q+X9Lbku69loIBTNbAsEfE7yX1/J9CElcHAD4l+LkskARhB5Ig7EAShB1IgrADSayYS0lff335H+Xxxx8v7d+9e3ed5aBQdmrxxo0bS1/L30lv+/bt69t35MiRvn3s2YEkCDuQBGEHkiDsQBKEHUiCsANJEHYgiRVzKWmsPIOuUbB/f/k1Th977LE6y5mYQZc9n5ub69vXbrfV6XRGu5Q0gJWBsANJEHYgCcIOJEHYgSQIO5AEYQeSYJwdWEEYZwdA2IEsCDuQBGEHkiDsQBKEHUiCsANJDAy77fW2f2f7Nduv2v5O0f6I7UXbJ4vbzPjLBTCqYSaJuCxpX0S8bPvzkl6y/XzR9+OI+NfxlQegLsPMz35W0tli+V3br0u6edyFAajXNX1nt71B0pck/aFoetD2vO2jtlf1ec0e2x3bnW63W61aACMbOuy2PyfpV5Ieioi/SDokaaOkzVra8/e84FdEHI6IdkS0W61W9YoBjGSosNv+jJaC/vOI+LUkRcS5iPggIq5I+pmkLeMrE0BVwxyNt6Qjkl6PiB8ta1+37GnfkHSq/vIA1GWYo/G3SfqWpFdsnyzaDkjaaXuzpJB0WtK3x1AfgJoMczT+95J6nR/7XP3lABgXfkEHJEHYgSQIO5AEYQeSIOxAEoQdSIKwA0kQdiAJwg4kQdiBJAg7kARhB5Ig7EAShB1IYqJTNtvuSnp7WdMaSRcmVsC1mdbaprUuidpGVWdt/xQRPa//NtGwf2Lldici2o0VUGJaa5vWuiRqG9WkauNjPJAEYQeSaDrshxtef5lprW1a65KobVQTqa3R7+wAJqfpPTuACSHsQBKNhN32XbbfsP2m7f1N1NCP7dO2Xymmoe40XMtR2+dtn1rWttr287YXivuec+w1VNtUTONdMs14o9uu6enPJ/6d3fZ1kv5X0tcknZH0oqSdEfHaRAvpw/ZpSe2IaPwHGLa/Kumvkv49Iv6laPuBpIsRcbD4j3JVRHxvSmp7RNJfm57Gu5itaN3yacYl3SNplxrcdiV13asJbLcm9uxbJL0ZEW9FxN8k/ULS9gbqmHoR8YKki1c1b5d0vFg+rqV/LBPXp7apEBFnI+LlYvldSR9OM97otiupayKaCPvNkv607PEZTdd87yHpt7Zfsr2n6WJ6WBsRZ4vldyStbbKYHgZO4z1JV00zPjXbbpTpz6viAN0n3R4RX5Z0t6QHio+rUymWvoNN09jpUNN4T0qPacY/0uS2G3X686qaCPuipPXLHn+haJsKEbFY3J+X9LSmbyrqcx/OoFvcn2+4no9M0zTevaYZ1xRsuyanP28i7C9K2mT7i7Y/K+mbkp5poI5PsH1jceBEtm+U9HVN31TUz0i6r1i+T9JvGqzlY6ZlGu9+04yr4W3X+PTnETHxm6QZLR2R/z9J32+ihj51/bOkPxa3V5uuTdKTWvpY93ctHdu4X9I/SjohaUHS/0haPUW1/YekVyTNaylY6xqq7XYtfUSfl3SyuM00ve1K6prIduPnskASHKADkiDsQBKEHUiCsANJEHYgCcIOJEHYgST+H5Tg+3XLYv/VAAAAAElFTkSuQmCC\n",
      "text/plain": [
       "<Figure size 432x288 with 1 Axes>"
      ]
     },
     "metadata": {
      "needs_background": "light"
     },
>>>>>>> fe0868f... adding tests
     "output_type": "display_data"
    }
   ],
   "source": [
    "img_array = imageio.imread(\"2.png\", as_gray=True)\n",
    "\n",
    "# reshape from 28x28 to list of 784 values, invert values\n",
    "img_data  = 255.0 - img_array.reshape(784)\n",
    "\n",
    "\n",
    "# then scale data to range from 0.01 to 1.0\n",
    "img_data = (img_data / 255.0 * 0.99) + 0.01\n",
    "\n",
    "outputs = n.query(img_data)\n",
    "\n",
    "calc_result = numpy.argmax(outputs)\n",
    "\n",
    "\n",
    "matplotlib.pyplot.imshow(img_data.reshape(28,28), cmap='Greys', interpolation='None')\n",
    "\n",
    "print(\"The predicted image is: \", calc_result)"
   ]
  },
  {
   "cell_type": "code",
<<<<<<< HEAD
   "execution_count": 12,
   "metadata": {
    "collapsed": false
   },
=======
   "execution_count": 10,
   "metadata": {},
>>>>>>> fe0868f... adding tests
   "outputs": [
    {
     "name": "stdout",
     "output_type": "stream",
     "text": [
      "The predicted image is:  3\n"
     ]
    },
    {
     "data": {
<<<<<<< HEAD
      "image/png": "iVBORw0KGgoAAAANSUhEUgAAAP8AAAD8CAYAAAC4nHJkAAAABHNCSVQICAgIfAhkiAAAAAlwSFlz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\nlB9IivIDSVF+IKm/A7WBGSjnheyAAAAAAElFTkSuQmCC\n",
      "text/plain": [
       "<matplotlib.figure.Figure at 0x26ef724d748>"
      ]
     },
     "metadata": {},
=======
      "image/png": "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\n",
      "text/plain": [
       "<Figure size 432x288 with 1 Axes>"
      ]
     },
     "metadata": {
      "needs_background": "light"
     },
>>>>>>> fe0868f... adding tests
     "output_type": "display_data"
    }
   ],
   "source": [
    "img_array = imageio.imread(\"3.png\", as_gray=True)\n",
    "\n",
    "# reshape from 28x28 to list of 784 values, invert values\n",
    "img_data  = 255.0 - img_array.reshape(784)\n",
    "\n",
    "\n",
    "# then scale data to range from 0.01 to 1.0\n",
    "img_data = (img_data / 255.0 * 0.99) + 0.01\n",
    "\n",
    "outputs = n.query(img_data)\n",
    "\n",
    "calc_result = numpy.argmax(outputs)\n",
    "\n",
    "\n",
    "matplotlib.pyplot.imshow(img_data.reshape(28,28), cmap='Greys', interpolation='None')\n",
    "\n",
    "print(\"The predicted image is: \", calc_result)"
   ]
  }
 ],
 "metadata": {
  "anaconda-cloud": {},
  "kernelspec": {
   "display_name": "Python [default]",
   "language": "python",
   "name": "python3"
  },
  "language_info": {
   "codemirror_mode": {
    "name": "ipython",
    "version": 3
   },
   "file_extension": ".py",
   "mimetype": "text/x-python",
   "name": "python",
   "nbconvert_exporter": "python",
   "pygments_lexer": "ipython3",
   "version": "3.5.2"
  }
 },
 "nbformat": 4,
 "nbformat_minor": 2
}
