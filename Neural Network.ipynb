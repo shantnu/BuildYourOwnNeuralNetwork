{
 "cells": [
  {
   "cell_type": "code",
<<<<<<< HEAD
   "execution_count": 2,
   "metadata": {
    "collapsed": true
   },
=======
   "execution_count": 1,
   "metadata": {},
>>>>>>> fe0868f... adding tests
   "outputs": [],
   "source": [
    "import numpy\n",
    "\n",
    "import scipy.special"
   ]
  },
  {
   "cell_type": "code",
<<<<<<< HEAD
   "execution_count": 3,
   "metadata": {
    "collapsed": true
   },
=======
   "execution_count": 2,
   "metadata": {},
>>>>>>> fe0868f... adding tests
   "outputs": [],
   "source": [
    "class NN:\n",
    "    def __init__(self, input_nodes = 784, hidden_nodes = 200, output_nodes = 10):\n",
    "        self.input_nodes = input_nodes\n",
    "        self.hidden_nodes = hidden_nodes\n",
    "        self.output_nodes = output_nodes\n",
    "        \n",
    "        self.weights_in = numpy.random.uniform(-1, 1, (self.hidden_nodes, self.input_nodes))\n",
    "\n",
    "        self.weights_out = numpy.random.uniform(-1, 1, (self.output_nodes, self.hidden_nodes))\n",
    "        self.learning_rate = 0.3\n",
    "        \n",
    "    def train(self,inputs, outputs):\n",
    "        \n",
    "        inputs = numpy.array(inputs, ndmin=2).T\n",
    "        outputs = numpy.array(outputs, ndmin=2).T\n",
    "\n",
    "        hidden_input = numpy.dot(self.weights_in,inputs)\n",
    "        hidden_output = scipy.special.expit(hidden_input)\n",
    "\n",
    "        final_layer_in = numpy.dot(self.weights_out, hidden_output)\n",
    "        final_layer_out = scipy.special.expit(final_layer_in)\n",
    "\n",
    "        errors = outputs - final_layer_out\n",
    "\n",
    "        # .T because its the formula\n",
    "        hidden_err = numpy.dot(self.weights_out.T, errors)\n",
    "\n",
    "        self.weights_in += self.learning_rate * numpy.dot((hidden_err * hidden_output * (1- hidden_output)), inputs.T)\n",
    "\n",
    "        self.weights_out += self.learning_rate * numpy.dot((errors * final_layer_out * (1- final_layer_out)), hidden_output.T)\n",
    "        \n",
    "    def query(self,inputs):\n",
    "        hidden_input = numpy.dot(self.weights_in,inputs)\n",
    "        hidden_output = scipy.special.expit(hidden_input)\n",
    "\n",
    "        final_layer_in = numpy.dot(self.weights_out, hidden_output)\n",
    "        final_layer_out = scipy.special.expit(final_layer_in)\n",
    "        \n",
    "        return final_layer_out\n",
    "\n",
    "        \n",
    "        \n",
    "    \n",
    "\n",
    "    "
   ]
  },
  {
   "cell_type": "code",
<<<<<<< HEAD
   "execution_count": 4,
   "metadata": {
    "collapsed": true
   },
=======
   "execution_count": 3,
   "metadata": {},
>>>>>>> fe0868f... adding tests
   "outputs": [],
   "source": [
    "training_data_file = open(\"mnist_train.csv\", 'r')\n",
    "training_data_list = training_data_file.readlines()\n",
    "training_data_file.close()"
   ]
  },
  {
   "cell_type": "code",
<<<<<<< HEAD
   "execution_count": 5,
   "metadata": {
    "collapsed": false
   },
=======
   "execution_count": 4,
   "metadata": {},
>>>>>>> fe0868f... adding tests
   "outputs": [],
   "source": [
    "# epochs is the number of times the training data set is used for training\n",
    "epochs = 10\n",
    "n = NN()\n",
    "for e in range(epochs):\n",
    "    for data in training_data_list:\n",
    "        current_data = data.split(',')\n",
    "\n",
    "        raw_data = (numpy.asfarray(current_data[1:]) / 255.0 * 0.99) + 0.1\n",
    "        hand_digit = int(current_data[0])\n",
    "\n",
    "        output = numpy.ndarray(10)\n",
    "        output.fill(0.1)\n",
    "        output[hand_digit] = 0.99\n",
    "\n",
    "        n.train(raw_data, output)"
   ]
  },
  {
   "cell_type": "code",
<<<<<<< HEAD
   "execution_count": 6,
   "metadata": {
    "collapsed": true
   },
=======
   "execution_count": 5,
   "metadata": {},
>>>>>>> fe0868f... adding tests
   "outputs": [],
   "source": [
    "test_data_file = open(\"mnist_test.csv\", 'r')\n",
    "test_data_list = test_data_file.readlines()\n",
    "test_data_file.close()\n",
    "\n"
   ]
  },
  {
   "cell_type": "code",
<<<<<<< HEAD
   "execution_count": 7,
   "metadata": {
    "collapsed": false
   },
=======
   "execution_count": 6,
   "metadata": {},
>>>>>>> fe0868f... adding tests
   "outputs": [
    {
     "name": "stdout",
     "output_type": "stream",
     "text": [
<<<<<<< HEAD
      "Performance =  91.97 %\n"
=======
      "Performance =  92.21000000000001 %\n"
>>>>>>> fe0868f... adding tests
     ]
    }
   ],
   "source": [
    "final_result = []\n",
    "\n",
    "for data in test_data_list:\n",
    "    current_data = data.split(',')\n",
    "\n",
    "    raw_data = (numpy.asfarray(current_data[1:]) / 255.0 * 0.99) + 0.1\n",
    "    hand_digit = int(current_data[0])\n",
    "    \n",
    "    outputs = n.query(raw_data)\n",
    "    \n",
    "    calc_result = numpy.argmax(outputs)\n",
    "    \n",
    "    if calc_result == hand_digit:\n",
    "        final_result.append(1)\n",
    "    else:\n",
    "        final_result.append(0)\n",
    "        \n",
    "        \n",
    "performance = final_result.count(1) / len(final_result)\n",
    "    \n",
    "print(\"Performance = \" , performance    * 100, \"%\")"
   ]
  }
 ],
 "metadata": {
  "anaconda-cloud": {},
  "kernelspec": {
   "display_name": "Python [default]",
   "language": "python",
   "name": "python3"
  },
  "language_info": {
   "codemirror_mode": {
    "name": "ipython",
    "version": 3
   },
   "file_extension": ".py",
   "mimetype": "text/x-python",
   "name": "python",
   "nbconvert_exporter": "python",
   "pygments_lexer": "ipython3",
   "version": "3.5.2"
  }
 },
 "nbformat": 4,
 "nbformat_minor": 2
}
